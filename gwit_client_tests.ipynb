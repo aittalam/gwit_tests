{
 "cells": [
  {
   "cell_type": "markdown",
   "id": "7516922f-2760-4362-b74e-364277cd70a4",
   "metadata": {},
   "source": [
    "# Testing gwit\n",
    "\n",
    "This notebook is aimed at implementing a gwit client by following the specification defined here:\n",
    "https://git.sr.ht/~ivilata/gwit-spec. The gwit sites used in this code are \"The Oldest gwit Site\" (0x408198c2c363076c6b1eabe797ea3168a78cd65a), available at https://git.sr.ht/~ivilata/oldest-gwit-site, and Matograine's site (0x16c8a566bb88303c2513cf6328996d46e0440e85), available at https://framagit.org/matograine/gwitsite\n"
   ]
  },
  {
   "cell_type": "code",
   "execution_count": 1,
   "id": "59fb7019-54ba-4ab9-9cd3-5e56f27759aa",
   "metadata": {},
   "outputs": [
    {
     "name": "stdout",
     "output_type": "stream",
     "text": [
      "Requirement already satisfied: gitpython in /Users/mala/envs/jup/lib/python3.9/site-packages (3.1.42)\n",
      "Requirement already satisfied: pgpy in /Users/mala/envs/jup/lib/python3.9/site-packages (0.6.0)\n",
      "Requirement already satisfied: gitdb<5,>=4.0.1 in /Users/mala/envs/jup/lib/python3.9/site-packages (from gitpython) (4.0.11)\n",
      "Requirement already satisfied: cryptography>=3.3.2 in /Users/mala/envs/jup/lib/python3.9/site-packages (from pgpy) (41.0.5)\n",
      "Requirement already satisfied: pyasn1 in /Users/mala/envs/jup/lib/python3.9/site-packages (from pgpy) (0.4.8)\n",
      "Requirement already satisfied: cffi>=1.12 in /Users/mala/envs/jup/lib/python3.9/site-packages (from cryptography>=3.3.2->pgpy) (1.15.1)\n",
      "Requirement already satisfied: smmap<6,>=3.0.1 in /Users/mala/envs/jup/lib/python3.9/site-packages (from gitdb<5,>=4.0.1->gitpython) (5.0.1)\n",
      "Requirement already satisfied: pycparser in /Users/mala/envs/jup/lib/python3.9/site-packages (from cffi>=1.12->cryptography>=3.3.2->pgpy) (2.21)\n",
      "\n",
      "\u001b[1m[\u001b[0m\u001b[34;49mnotice\u001b[0m\u001b[1;39;49m]\u001b[0m\u001b[39;49m A new release of pip is available: \u001b[0m\u001b[31;49m23.3.2\u001b[0m\u001b[39;49m -> \u001b[0m\u001b[32;49m24.0\u001b[0m\n",
      "\u001b[1m[\u001b[0m\u001b[34;49mnotice\u001b[0m\u001b[1;39;49m]\u001b[0m\u001b[39;49m To update, run: \u001b[0m\u001b[32;49mpip install --upgrade pip\u001b[0m\n"
     ]
    }
   ],
   "source": [
    "!pip install gitpython pgpy"
   ]
  },
  {
   "cell_type": "code",
   "execution_count": 2,
   "id": "fb2d7118-0a86-4649-8831-0c43815ee09d",
   "metadata": {},
   "outputs": [],
   "source": [
    "import os\n",
    "import pgpy\n",
    "from git import Repo"
   ]
  },
  {
   "cell_type": "code",
   "execution_count": 7,
   "id": "630d75bb-30bf-439d-b988-f442e27cf782",
   "metadata": {},
   "outputs": [
    {
     "name": "stdout",
     "output_type": "stream",
     "text": [
      "We will be cloning branch `gwit-0xa78cd65a` from https://git.sr.ht/~ivilata/oldest-gwit-site\n"
     ]
    }
   ],
   "source": [
    "site_id = \"408198c2c363076c6b1eabe797ea3168a78cd65a\"\n",
    "repo_url = \"https://git.sr.ht/~ivilata/oldest-gwit-site\"\n",
    "output_path = f\"/tmp/{site_id}\"\n",
    "branch = f\"gwit-0x{site_id[-8:]}\"\n",
    "\n",
    "print(f\"We will be cloning branch `{branch}` from {repo_url}\")"
   ]
  },
  {
   "cell_type": "markdown",
   "id": "daa3c056-56dc-4b84-97f8-334f58064e79",
   "metadata": {},
   "source": [
    "### 1. Clone the Git repository from the given location into temporary storage\n",
    "\n",
    "e.g. `git clone --bare --branch <SITE-BRANCH> <SITE-LOCATION> <TEMP-REPO> && cd <TEMP-REPO>`\n"
   ]
  },
  {
   "cell_type": "code",
   "execution_count": 8,
   "id": "acaae1fe-9bba-44a1-b7ac-71e82a2352c7",
   "metadata": {},
   "outputs": [
    {
     "name": "stdout",
     "output_type": "stream",
     "text": [
      "[x] Output path /tmp/408198c2c363076c6b1eabe797ea3168a78cd65a already exists\n"
     ]
    }
   ],
   "source": [
    "if not os.path.exists(output_path):\n",
    "    try:\n",
    "        repo = Repo.clone_from(repo_url, output_path, branch=branch)\n",
    "    except Exception as e:\n",
    "        print(e)\n",
    "else:\n",
    "    print(f\"[x] Output path {output_path} already exists\")\n",
    "    repo = Repo(output_path)"
   ]
  },
  {
   "cell_type": "code",
   "execution_count": 9,
   "id": "ba45a19d-7ef6-4c89-9107-2d5df2c6974b",
   "metadata": {},
   "outputs": [
    {
     "name": "stdout",
     "output_type": "stream",
     "text": [
      "total 16\n",
      "drwxr-xr-x  3 mala  wheel    96 Feb 25 00:40 \u001b[34mLICENSES\u001b[m\u001b[m\n",
      "drwxr-xr-x  6 mala  wheel   192 Feb 25 03:13 \u001b[34m_gwit\u001b[m\u001b[m\n",
      "-rw-r--r--  1 mala  wheel   231 Feb 25 00:40 index.gmi\n",
      "-rw-r--r--  1 mala  wheel  1072 Feb 25 00:40 index__en.gmi\n",
      "drwxr-xr-x  3 mala  wheel    96 Feb 25 00:40 \u001b[34mlog\u001b[m\u001b[m\n"
     ]
    }
   ],
   "source": [
    "!ls -l {output_path}"
   ]
  },
  {
   "cell_type": "markdown",
   "id": "502bca7c-79f3-4bd0-bf7d-5d43aa2ad030",
   "metadata": {},
   "source": [
    "### 2. Get the commit at the head of the site branch as `<HEAD-COMMIT>`\n",
    "\n",
    "e.g. `git show-ref --verify --hash refs/heads/<SITE-BRANCH>`"
   ]
  },
  {
   "cell_type": "code",
   "execution_count": 10,
   "id": "f03d9e8a-8d38-4cc8-87c3-293183e128c5",
   "metadata": {},
   "outputs": [
    {
     "data": {
      "text/plain": [
       "'a805b3caf323e6e9aad6242c15b2316d73b94b61'"
      ]
     },
     "execution_count": 10,
     "metadata": {},
     "output_type": "execute_result"
    }
   ],
   "source": [
    "# ! cd {output_path} && git show-ref --verify --hash refs/heads/{branch}\n",
    "head_commit_hash = repo.head.commit.hexsha\n",
    "head_commit_hash"
   ]
  },
  {
   "cell_type": "markdown",
   "id": "f01a4757-ac41-4373-bca1-9c90289acbd2",
   "metadata": {},
   "source": [
    "### 3. Check that `self.key` exists as a file (blob) in the `_gwit` directory of `<HEAD-COMMIT>`\n",
    "\n",
    "e.g. `git ls-tree --format='%(objecttype) %(objectname)' <HEAD-COMMIT> _gwit/self.key reports blob <KEY-FILE-HASH>)`\n"
   ]
  },
  {
   "cell_type": "code",
   "execution_count": 11,
   "id": "fbe70016-3da5-4389-ac75-6d27da292ffd",
   "metadata": {},
   "outputs": [
    {
     "name": "stdout",
     "output_type": "stream",
     "text": [
      "[i] ee3c8da562f4fc18390d061619403c5c2a87dde0\n"
     ]
    }
   ],
   "source": [
    "# ! cat /tmp/408198c2c363076c6b1eabe797ea3168a78cd65a/_gwit/self.key\n",
    "# ! cd {output_path} && git ls-tree --format='%(objecttype) %(objectname)' a805b3caf323e6e9aad6242c15b2316d73b94b61 _gwit/self.key\n",
    "\n",
    "# get hash of the head commit\n",
    "commit = repo.commit(head_commit_hash)\n",
    "\n",
    "# Get the blob hash for the gwit site pub key\n",
    "try:\n",
    "    blob = commit.tree / '_gwit/self.key'\n",
    "    # Get the hash of the blob\n",
    "    blob_hash = blob.hexsha\n",
    "    print(f\"[i] {blob_hash}\")\n",
    "except KeyError as e:\n",
    "    print(\"[x] File is not there\")"
   ]
  },
  {
   "cell_type": "markdown",
   "id": "982e51dc-eb1b-4290-ad13-49283b53b9ab",
   "metadata": {},
   "source": [
    "### 4.. Check that the fingerprint of the primary PGP key in `_gwit/self.key` is equal to `<SITE-ID>` (case-insensitively)\n",
    "e.g. `git cat-file blob <KEY-FILE-HASH> | gpg --show-keys --with-fingerprint --with-colons | grep -A1 '^pub:' | grep -qiE '^fpr:+<SITE-ID>:$')`"
   ]
  },
  {
   "cell_type": "code",
   "execution_count": 12,
   "id": "b1c8ae4d-897b-42f2-96e7-3cf4a2537d55",
   "metadata": {},
   "outputs": [
    {
     "name": "stdout",
     "output_type": "stream",
     "text": [
      "408198C2C363076C6B1EABE797EA3168A78CD65A\n",
      "408198c2c363076c6b1eabe797ea3168a78cd65a\n"
     ]
    }
   ],
   "source": [
    "# ! cd {output_path} && git cat-file blob ee3c8da562f4fc18390d061619403c5c2a87dde0 | gpg --show-keys --with-fingerprint --with-colons\n",
    "import pgpy \n",
    "\n",
    "# Get the blob from its hash\n",
    "blob = repo.git.get_object_data(blob_hash)\n",
    "public_key_pem = blob[3]\n",
    "\n",
    "# Parse the armored key\n",
    "public_key, _ = pgpy.PGPKey.from_blob(public_key_pem)\n",
    "\n",
    "# Get the fingerprint\n",
    "fingerprint = public_key.fingerprint\n",
    "print(fingerprint)\n",
    "print(site_id)\n",
    "assert(fingerprint.lower()==site_id.lower())"
   ]
  },
  {
   "cell_type": "code",
   "execution_count": 13,
   "id": "727af92e-90da-4299-89e9-a3cb72e4aa37",
   "metadata": {},
   "outputs": [],
   "source": [
    "# # NOTE: this might be easier to implement in micropython \n",
    "# # if we did not use gnupg. Gnupg has armored PEM we cannot\n",
    "# # directly read with the following code (that works with \n",
    "# # my RSA public key instead generated with\n",
    "# # openssl rsa -in ~/.ssh/id_rsa -pubout -out id_rsa.pub.pem)\n",
    "# # Leaving this code as possible example (we might want to\n",
    "# # implement different signing / fingerprinting algos for\n",
    "# # micropython using ucrypto, see e.g.:\n",
    "# # https://github.com/dmazzella/ucrypto\n",
    "# # https://stackoverflow.com/questions/64733471/how-to-calculate-a-fingerprint-from-an-rsa-public-key\n",
    "\n",
    "# from cryptography.hazmat.primitives import hashes\n",
    "# from cryptography.hazmat.primitives.asymmetric import rsa\n",
    "# from cryptography.hazmat.primitives import serialization\n",
    "\n",
    "# # fname = '/tmp/408198c2c363076c6b1eabe797ea3168a78cd65a/_gwit/self.key'\n",
    "# fname = \"/tmp/408198c2c363076c6b1eabe797ea3168a78cd65a/id_rsa.pub.pem\"\n",
    "\n",
    "# def get_fingerprint(public_key_pem):\n",
    "#     public_key = serialization.load_pem_public_key(public_key_pem)\n",
    "#     public_bytes = public_key.public_bytes(\n",
    "#         encoding=serialization.Encoding.DER,\n",
    "#         format=serialization.PublicFormat.SubjectPublicKeyInfo\n",
    "#     )\n",
    "#     digest = hashes.Hash(hashes.SHA256())\n",
    "#     digest.update(public_bytes)\n",
    "#     return digest.finalize()\n",
    "\n",
    "# with open(fname, 'rb') as key_file:\n",
    "#     public_key_pem = key_file.read()\n",
    "\n",
    "# fingerprint = get_fingerprint(public_key_pem)\n",
    "# print(fingerprint.hex())\n"
   ]
  },
  {
   "cell_type": "markdown",
   "id": "89c131d4-0a97-4a8f-87f9-354816ae2770",
   "metadata": {},
   "source": [
    "### 5. Import `_gwit/self.key` into the client's keyring\n",
    "\n",
    "e.g. `git cat-file blob <KEY-FILE-HASH> | gpg --homedir <CLIENT-GPG-DIR> --import`\n",
    "\n",
    "... this can be done manually but is not required if we dont' use gnupg (see the two solutions below)\n",
    "\n",
    "### 6. Check that `<HEAD-COMMIT>` has a valid signature by the key that matches `<SITE-ID>` (case-insensitively), or by a subkey of it \n",
    "\n",
    "e.g. `git verify-commit --raw <HEAD-COMMIT> 2>&1 | sed -nE 's/^\\[GNUPG:\\] VALIDSIG .*\\b(\\S+)$/\\1/p' reports <SITE-ID>)`\n",
    "\n",
    "#### 6.1 Solution 1: call `git verify-commit`, which then calls `gpg`\n",
    "\n",
    "- pros: works out of the box, git knows how to split payload and public key for verification\n",
    "- cons: depends on git + gnupg, relies on some string matching"
   ]
  },
  {
   "cell_type": "code",
   "execution_count": 14,
   "id": "92f334e0-80b9-4ffa-b84b-4b9b6b33ea5f",
   "metadata": {},
   "outputs": [
    {
     "name": "stdout",
     "output_type": "stream",
     "text": [
      "commit a805b3caf323e6e9aad6242c15b2316d73b94b61\n",
      "gpg: Signature made Gio 22 Feb 17:31:07 2024 GMT\n",
      "gpg:                using RSA key 408198C2C363076C6B1EABE797EA3168A78CD65A\n",
      "gpg: Good signature from \"Degauss (The Oldest gwit Site) <degauss+togs@selidor.net>\" [unknown]\n",
      "gpg: WARNING: This key is not certified with a trusted signature!\n",
      "gpg:          There is no indication that the signature belongs to the owner.\n",
      "Primary key fingerprint: 4081 98C2 C363 076C 6B1E  ABE7 97EA 3168 A78C D65A\n",
      "tree 5abe7e37a503a299d741968c19f71898d327b8ab\n",
      "parent 33f9e1c225f154231c0d7a50e95e5bdb4ccd899e\n",
      "author Degauss (The Oldest gwit Site) <degauss+togs@selidor.net> 1708623060 +0100\n",
      "committer Degauss (The Oldest gwit Site) <degauss+togs@selidor.net> 1708623060 +0100\n",
      "gpgsig -----BEGIN PGP SIGNATURE-----\n",
      " \n",
      " iQGzBAABCAAdFiEEQIGYwsNjB2xrHqvnl+oxaKeM1loFAmXXhNsACgkQl+oxaKeM\n",
      " 1lpedwv/RCFPl14yOjKVOwKXWvus2uiWqUDQOWCKaoqavI52i5DtXpYuk3hA01AM\n",
      " +jjNLFVmfeJt/gpYaNLeIx5KD79jj5d3A8ElkA5iU6FvQT7y6r2wcq6P0hz4nyqN\n",
      " adMRhnEgPDVnrV ...\n"
     ]
    }
   ],
   "source": [
    "import subprocess\n",
    "\n",
    "result = subprocess.run(['git', '-C', repo.working_dir, 'show', '--pretty=raw', '--show-signature', head_commit_hash],\n",
    "                        capture_output=True, text=True)\n",
    "\n",
    "print(result.stdout[:1000], \"...\")\n",
    "assert(\"gpg: Good signature\" in result.stdout)"
   ]
  },
  {
   "cell_type": "code",
   "execution_count": 15,
   "id": "800fadd3-689d-454d-8022-db0556144d16",
   "metadata": {},
   "outputs": [],
   "source": [
    "# # with open(\"/tmp/408198c2c363076c6b1eabe797ea3168a78cd65a/_gwit/fuffa\", 'rb') as msg_file:\n",
    "# with open(\"/tmp/fineeeh\", 'rb') as msg_file:\n",
    "# # with open(\"/tmp/test_gpg_signed_repo/fuffa\", 'rb') as msg_file:\n",
    "#     message = msg_file.read()\n",
    "\n",
    "# sig = \"\"\"-----BEGIN PGP SIGNATURE-----\n",
    "\n",
    "# iQGzBAABCAAdFiEEQIGYwsNjB2xrHqvnl+oxaKeM1loFAmXXhNsACgkQl+oxaKeM\n",
    "# 1lpedwv/RCFPl14yOjKVOwKXWvus2uiWqUDQOWCKaoqavI52i5DtXpYuk3hA01AM\n",
    "# +jjNLFVmfeJt/gpYaNLeIx5KD79jj5d3A8ElkA5iU6FvQT7y6r2wcq6P0hz4nyqN\n",
    "# adMRhnEgPDVnrV0nT/T+kq4+JBMIxx1ogXOpmLMFIkb2LaK3ra8gYoDfBx0R4IWb\n",
    "# quGdtrtJoEDYyIG6xXtZ/i580lREO2L2xcfvMMY7ZuZdxCFDF2FvlsjZZwDFQBtg\n",
    "# 3NuiL2kcjyP1KYL4H09Ea99gpuWbDIo/7VfMJs8XqNneAMNkkG2sirFD1Y1UsBLU\n",
    "# 2Htaw9cskD2HqmLqh8sPKZrZee3Hndppwu8qri1UL+krR+P/uuYgbCapxftfhSdP\n",
    "# dEPtwQj3LGKwVNSu699tEated0+RnpK8AgbNviGWUYNFefflfYDyEbQcT68aGjl9\n",
    "# 7DrbbTMTzxSD+dD5zt1+dhFcnN7XqCntiZOmNbeWqyzTZit0/O8v5lwjzjEi0ldh\n",
    "# 43cz7496\n",
    "# =IjTS\n",
    "# -----END PGP SIGNATURE-----\n",
    "# \"\"\"\n",
    "\n",
    "# sig = pgpy.PGPSignature.from_blob(sig)\n",
    "\n",
    "# # key = pgpy.PGPKey.from_file(\"/tmp/test_gpg_signed_repo/gwit.asc\")[0]\n",
    "# key = pgpy.PGPKey.from_file(\"/tmp/408198c2c363076c6b1eabe797ea3168a78cd65a/_gwit/self.key\")[0]\n",
    "\n",
    "# print(message)\n",
    "\n",
    "# print(key.verify(message, sig))\n",
    "# print(key.verify(message.strip(), sig))"
   ]
  },
  {
   "cell_type": "markdown",
   "id": "deb14bf1-4251-4a0f-bafb-9063cf3962e8",
   "metadata": {},
   "source": [
    "#### 6.2 Solution 2: implement everything in gitpython + pgpy\n",
    "\n",
    "- pros: fewer dependencies, more control\n",
    "- cons: we need to rebuild the payload from scratch\n",
    "\n",
    "To test whether the payload makes sense, we'll verify its signature on all the commits in the repo. Let us start with the first one..."
   ]
  },
  {
   "cell_type": "code",
   "execution_count": 18,
   "id": "ac460d1e-139e-4dab-a84a-a8322a29292d",
   "metadata": {},
   "outputs": [
    {
     "name": "stdout",
     "output_type": "stream",
     "text": [
      "<SignatureVerification(True)>\n"
     ]
    },
    {
     "name": "stderr",
     "output_type": "stream",
     "text": [
      "/Users/mala/envs/jup/lib/python3.9/site-packages/pgpy/pgp.py:2389: UserWarning: TODO: Self-sigs verification is not yet working because self-sigs are not parsed!!!\n",
      "  warnings.warn(\"TODO: Self-sigs verification is not yet working because self-sigs are not parsed!!!\")\n",
      "/Users/mala/envs/jup/lib/python3.9/site-packages/pgpy/pgp.py:2406: UserWarning: TODO: Revocation checks are not yet implemented!!!\n",
      "  warnings.warn(\"TODO: Revocation checks are not yet implemented!!!\")\n",
      "/Users/mala/envs/jup/lib/python3.9/site-packages/pgpy/pgp.py:2407: UserWarning: TODO: Flags (s.a. `disabled`) checks are not yet implemented!!!\n",
      "  warnings.warn(\"TODO: Flags (s.a. `disabled`) checks are not yet implemented!!!\")\n"
     ]
    }
   ],
   "source": [
    "def get_commit_payload(commit):\n",
    "    headers  = f\"tree {commit.tree.hexsha}\\n\"\n",
    "    try:\n",
    "        headers += f\"parent {commit.parents[0].hexsha}\\n\"\n",
    "    except Exception as e:\n",
    "        print(e)\n",
    "    headers += f\"author {commit.author.name} <{commit.author.email}> {commit.authored_date} {commit.authored_datetime.strftime('%z')}\\n\"\n",
    "    try:\n",
    "        headers += f\"committer {commit.committer.name} <{commit.committer.email}> {commit.committed_date} {commit.committed_datetime.strftime('%z')}\\n\\n\"\n",
    "    except Exception as e:\n",
    "        print(e)\n",
    "    headers += commit.message\n",
    "    headers.encode()\n",
    "    return headers\n",
    "\n",
    "# get the payload\n",
    "payload = get_commit_payload(commit)\n",
    "# get the signature\n",
    "sig = pgpy.PGPSignature.from_blob(commit.gpgsig)\n",
    "# verify \n",
    "print(public_key.verify(payload, sig))"
   ]
  },
  {
   "cell_type": "code",
   "execution_count": 19,
   "id": "49259ea5-75f6-484f-a560-3101584a7252",
   "metadata": {},
   "outputs": [
    {
     "name": "stdout",
     "output_type": "stream",
     "text": [
      "Commit a805b3caf323e6e9aad6242c15b2316d73b94b61\n",
      "<SignatureVerification(True)>\n",
      "Commit 33f9e1c225f154231c0d7a50e95e5bdb4ccd899e\n",
      "<SignatureVerification(True)>\n",
      "Commit 29b2c1071b8da8815eb8ae32140b635069e831cf\n",
      "<SignatureVerification(True)>\n",
      "Commit 080d577d21cd6604ec11bbb12e08c4a29ba2e08e\n",
      "<SignatureVerification(True)>\n",
      "Commit ddc36fcdd84dca79a45e180e15fa784d86cc5d86\n",
      "<SignatureVerification(True)>\n",
      "Commit 746d02633c21437096ba235e3ab0fb1fdf866c1d\n",
      "<SignatureVerification(True)>\n",
      "Commit 49eb4b0a5e3e60ee6e5d4b1c81ade9b9f2ff8c1c\n",
      "<SignatureVerification(True)>\n",
      "Commit 9259b51eac0fd029158cd39a73f5901a9befc3a7\n",
      "<SignatureVerification(True)>\n",
      "Commit 9d797f4480adce12d53795d9aa0586386db18bff\n",
      "<SignatureVerification(True)>\n",
      "Commit abb299bb34a3cc0e317faedda3f91929c3401c08\n",
      "<SignatureVerification(True)>\n",
      "Commit ae01109da5c0cdf530b0094c0a010945e2931781\n",
      "<SignatureVerification(True)>\n",
      "Commit c7959c006b378dafb4766f66a56411a3ee96431e\n",
      "<SignatureVerification(True)>\n",
      "Commit 10fa46abcfc70cb4bb50a8f2565cd86ef176bd7a\n",
      "<SignatureVerification(True)>\n",
      "Commit f0eb50a27c27bc204d947373691abdc2985f0e35\n",
      "<SignatureVerification(True)>\n",
      "Commit e3855d137f763492e91e9dca6bb6a24109a1d877\n",
      "<SignatureVerification(True)>\n",
      "Commit 3cc0e272740ee2201fd26e9fbb70f1e7788f2d02\n",
      "<SignatureVerification(True)>\n",
      "Commit 1b00645f58c5759e31ecd35a20478c86907a790d\n",
      "<SignatureVerification(True)>\n",
      "Commit de8537aeba4839bb434007539f463f7e43b3e8eb\n",
      "<SignatureVerification(True)>\n",
      "Commit c6a8edc7872192246445c9c38a509e7551669490\n",
      "<SignatureVerification(True)>\n",
      "Commit e088b4ef5c3a8ee2f2102eb0b848740d7ed71e2a\n",
      "<SignatureVerification(True)>\n",
      "Commit ac2ca18bff5058e17d227fdee0d865588273436e\n",
      "<SignatureVerification(True)>\n",
      "Commit 4bef3bab6518fd70b230aca0ea1b4131ea96dfd7\n",
      "<SignatureVerification(True)>\n",
      "Commit 36ccea7c5b6daa0ef567e0bb9c443605a97f5deb\n",
      "<SignatureVerification(True)>\n",
      "Commit 66a32356d6150d907ec10b1ede8c9b10e5af2dba\n",
      "<SignatureVerification(True)>\n",
      "Commit dc4815761b4dc8165c6ef7bbda56a12aebd715fe\n",
      "<SignatureVerification(True)>\n",
      "Commit 6e6b79139650c3403e53339ab9f6b582981f2889\n",
      "<SignatureVerification(True)>\n"
     ]
    },
    {
     "name": "stderr",
     "output_type": "stream",
     "text": [
      "/Users/mala/envs/jup/lib/python3.9/site-packages/pgpy/pgp.py:2389: UserWarning: TODO: Self-sigs verification is not yet working because self-sigs are not parsed!!!\n",
      "  warnings.warn(\"TODO: Self-sigs verification is not yet working because self-sigs are not parsed!!!\")\n",
      "/Users/mala/envs/jup/lib/python3.9/site-packages/pgpy/pgp.py:2406: UserWarning: TODO: Revocation checks are not yet implemented!!!\n",
      "  warnings.warn(\"TODO: Revocation checks are not yet implemented!!!\")\n",
      "/Users/mala/envs/jup/lib/python3.9/site-packages/pgpy/pgp.py:2407: UserWarning: TODO: Flags (s.a. `disabled`) checks are not yet implemented!!!\n",
      "  warnings.warn(\"TODO: Flags (s.a. `disabled`) checks are not yet implemented!!!\")\n"
     ]
    }
   ],
   "source": [
    "for c in repo.iter_commits():\n",
    "    print(f\"Commit {c.hexsha}\")\n",
    "    payload = get_commit_payload(commit)\n",
    "    sig = pgpy.PGPSignature.from_blob(commit.gpgsig)\n",
    "    print(public_key.verify(payload, sig))"
   ]
  },
  {
   "cell_type": "code",
   "execution_count": null,
   "id": "9804fd66-b9bc-434e-bcfb-f7fdfe66cc79",
   "metadata": {},
   "outputs": [],
   "source": []
  }
 ],
 "metadata": {
  "kernelspec": {
   "display_name": "Python 3 (ipykernel)",
   "language": "python",
   "name": "python3"
  },
  "language_info": {
   "codemirror_mode": {
    "name": "ipython",
    "version": 3
   },
   "file_extension": ".py",
   "mimetype": "text/x-python",
   "name": "python",
   "nbconvert_exporter": "python",
   "pygments_lexer": "ipython3",
   "version": "3.9.5"
  }
 },
 "nbformat": 4,
 "nbformat_minor": 5
}
